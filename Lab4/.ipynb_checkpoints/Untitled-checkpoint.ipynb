{
 "cells": [
  {
   "cell_type": "code",
   "execution_count": 16,
   "id": "e419dcba",
   "metadata": {},
   "outputs": [],
   "source": [
    "import spacy\n",
    "from spacy.tokens import Span"
   ]
  },
  {
   "cell_type": "code",
   "execution_count": null,
   "id": "becd279f",
   "metadata": {},
   "outputs": [],
   "source": [
    "nlp = spacy.load(\"en_core_web_sm\")\n",
    "# doc = nlp(\"Sagun is a high school student.\")"
   ]
  },
  {
   "cell_type": "code",
   "execution_count": 19,
   "id": "e913eaf0",
   "metadata": {},
   "outputs": [],
   "source": [
    "doc1 = nlp(\"Sagun is a Masters student and aspires to be a phD student.\")\n",
    "doc1.ents = [\n",
    "    Span(doc1, 3, 4, label=\"EDUCATION\"),\n",
    "    Span(doc1, 10, 11, label=\"EDUCATION\"),\n",
    "]"
   ]
  },
  {
   "cell_type": "code",
   "execution_count": 20,
   "id": "4ad7136e",
   "metadata": {},
   "outputs": [
    {
     "data": {
      "text/plain": [
       "(Masters, phD)"
      ]
     },
     "execution_count": 20,
     "metadata": {},
     "output_type": "execute_result"
    }
   ],
   "source": [
    "doc1.ents"
   ]
  },
  {
   "cell_type": "code",
   "execution_count": null,
   "id": "1d902ec4",
   "metadata": {},
   "outputs": [],
   "source": [
    "def education(text):\n",
    "    #pass the text to the nlp\n",
    "    doc = nlp(text)  #note that this nlp already know skills\n",
    "    \n",
    "    skills = []\n",
    "    \n",
    "    #look at the ents\n",
    "    for ent in doc.ents:\n",
    "        #if the ent.label_ is SKILL, then we append to some list\n",
    "#         if ent.label_ == \"SKILL\":\n",
    "#             skills.append(ent.text)\n",
    "        print(ent.label_)\n",
    "\n",
    "def unique_skills(x):\n",
    "    return list(set(x))"
   ]
  },
  {
   "cell_type": "code",
   "execution_count": 22,
   "id": "8bf814fb",
   "metadata": {},
   "outputs": [
    {
     "data": {
      "text/plain": [
       "('CARDINAL',\n",
       " 'DATE',\n",
       " 'EVENT',\n",
       " 'FAC',\n",
       " 'GPE',\n",
       " 'LANGUAGE',\n",
       " 'LAW',\n",
       " 'LOC',\n",
       " 'MONEY',\n",
       " 'NORP',\n",
       " 'ORDINAL',\n",
       " 'ORG',\n",
       " 'PERCENT',\n",
       " 'PERSON',\n",
       " 'PRODUCT',\n",
       " 'QUANTITY',\n",
       " 'TIME',\n",
       " 'WORK_OF_ART')"
      ]
     },
     "execution_count": 22,
     "metadata": {},
     "output_type": "execute_result"
    }
   ],
   "source": [
    "nlp.get_pipe(\"ner\").labels"
   ]
  },
  {
   "cell_type": "code",
   "execution_count": 23,
   "id": "20243942",
   "metadata": {},
   "outputs": [
    {
     "data": {
      "text/plain": [
       "['tok2vec', 'tagger', 'parser', 'attribute_ruler', 'lemmatizer', 'ner']"
      ]
     },
     "execution_count": 23,
     "metadata": {},
     "output_type": "execute_result"
    }
   ],
   "source": [
    "nlp.pipe_names"
   ]
  },
  {
   "cell_type": "code",
   "execution_count": 24,
   "id": "fd237442",
   "metadata": {},
   "outputs": [],
   "source": [
    "ruler = nlp.add_pipe(\"entity_ruler\")\n",
    "# ruler.from_disk(skill_path)\n",
    "# ruler.\n",
    "# nlp.pipe_names"
   ]
  },
  {
   "cell_type": "code",
   "execution_count": null,
   "id": "4253864b",
   "metadata": {},
   "outputs": [],
   "source": [
    "ruler.add_patterns()"
   ]
  },
  {
   "cell_type": "code",
   "execution_count": 25,
   "id": "1808fb8c",
   "metadata": {},
   "outputs": [],
   "source": [
    "from spacy.matcher import Matcher\n"
   ]
  },
  {
   "cell_type": "code",
   "execution_count": null,
   "id": "a29ca2a5",
   "metadata": {},
   "outputs": [],
   "source": [
    "matcher = Matcher(nlp.vocab)\n",
    "p1 = [{'LOWER': 'phd'}]\n",
    "p2 = [{'LOWER': 'p'}, {'IS_PUNCT': True}, {'LOWER': 'h'}, {'IS_PUNCT': True}, {'LOWER': 'd'}]\n",
    "p3 = [{'LOWER': 'masters'}]\n",
    "p4 =  [{'LOWER': 'high'}, {'IS_PUNCT': True}, {'LOWER': 'school'}]\n",
    "p5 =  [{'LOWER': 'highschool'}]\n",
    "p5 =  [{'LOWER': 'bachelors'}]"
   ]
  }
 ],
 "metadata": {
  "kernelspec": {
   "display_name": "Python 3 (ipykernel)",
   "language": "python",
   "name": "python3"
  },
  "language_info": {
   "codemirror_mode": {
    "name": "ipython",
    "version": 3
   },
   "file_extension": ".py",
   "mimetype": "text/x-python",
   "name": "python",
   "nbconvert_exporter": "python",
   "pygments_lexer": "ipython3",
   "version": "3.10.9"
  }
 },
 "nbformat": 4,
 "nbformat_minor": 5
}
