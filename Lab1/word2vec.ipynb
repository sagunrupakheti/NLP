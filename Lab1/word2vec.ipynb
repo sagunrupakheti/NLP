{
 "cells": [
  {
   "cell_type": "markdown",
   "id": "2fd46618-ad8b-4641-9291-d545e2b01c09",
   "metadata": {},
   "source": [
    "# Word2Vec Assignment\n",
    "\n",
    "\n",
    "- Sagun Rupakheti st123431\n",
    "\n",
    "You MUST build on top of what we have coded in the class (to prevent anyone from just copying from the internet).\n",
    "\n",
    "1.  Try a real corpus (instead of banana apple, try something real... on the internet....) - not so big!  Just so you have a good taste of real stuff....like 50 documents, each having 50 words...(really up to you)\n",
    "\n",
    "2. Try a window size of 2\n",
    "\n",
    "3. Implement CBOW (instead of skipgrams)\n",
    "\n",
    "4. Compare normal version of skipgrams vs. negative sampling version of skipgrams in terms of time (using real corpus)\n",
    "\n",
    "Point criteria:\n",
    "0: not done/copy directly from your friend (inspired is ok)\n",
    "1: ok\n",
    "2: with comments, and a nice explanation along the notebook (like how Chaky do his tutorial...)\n",
    "\n",
    "Submit as GitHub link.\n",
    "\n",
    "**The solution starts from here--------**"
   ]
  },
  {
   "cell_type": "markdown",
   "id": "df60ddca-f45e-4ee1-94be-22001e7bc915",
   "metadata": {},
   "source": [
    "**Embeddings are numerical representation i.e. a vector for words. The vectors try to capture the characteristics of the word which could be semantic or syntatic. Word2Vec is process of embedding used to group words together.** "
   ]
  },
  {
   "cell_type": "code",
   "execution_count": 2,
   "id": "3134e809-bd57-4a53-9625-16ee1c5a7c70",
   "metadata": {},
   "outputs": [],
   "source": [
    "# Let's import some important libraries here\n",
    "# FYI, all libraries are compiled here\n",
    "\n",
    "import numpy as np\n",
    "import torch\n",
    "import torch.nn as nn\n",
    "import torch.optim as optim\n",
    "import matplotlib.pyplot as plt\n",
    "# import spacy\n",
    "import re\n",
    "import math \n",
    "import random"
   ]
  },
  {
   "cell_type": "markdown",
   "id": "fd306519-704a-4cf9-b69d-20f2bde3522c",
   "metadata": {},
   "source": [
    "# 1. Load the Data\n",
    "\n",
    "Let's load a corpus to start with the process of building models for Word2Vec. A corpus is a collection of authentic text or audio organized into datasets. In this notebook we use text data extracted from wikipedia on ChatGPT -> https://en.wikipedia.org/wiki/ChatGPT#:~:text=ChatGPT%20was%20fine,12%5D%5B13%5D "
   ]
  },
  {
   "cell_type": "code",
   "execution_count": 3,
   "id": "8517069a-68b1-4396-bcbe-419e3fc69990",
   "metadata": {},
   "outputs": [],
   "source": [
    "with open (\"data/data.txt\", \"r\") as f:\n",
    "    text = f.read()"
   ]
  },
  {
   "cell_type": "code",
   "execution_count": 4,
   "id": "be1093a6-e907-4e3d-80f8-60eac007e627",
   "metadata": {},
   "outputs": [
    {
     "data": {
      "text/plain": [
       "\"ChatGPT was fine-tuned on top of GPT-3.5 using supervised learning as well as reinforcement learning. [5] Both approaches used human trainers to improve the model's performance. In the case of supervised learning, the model was provided with conversations in which the trainers played both sides: the user and the AI assistant. In the reinforcement step, human trainers first ranked responses that the model had created in a previous conversation. These rankings were used to create 'reward models' that the model was further fine-tuned on using several iterations of Proximal Policy Optimization (PPO). [6][7] Proximal Policy Optimization algorithms present a cost-effective benefit to trust region policy optimization algorithms; they negate many of the computationally expensive operations with faster performance. [8][9] The models were trained in collaboration with Microsoft on their Azure supercomputing infrastructure.\""
      ]
     },
     "execution_count": 4,
     "metadata": {},
     "output_type": "execute_result"
    }
   ],
   "source": [
    "text"
   ]
  },
  {
   "cell_type": "code",
   "execution_count": 5,
   "id": "d4a4e620-be6d-40cb-a971-ede4a2a3090a",
   "metadata": {},
   "outputs": [],
   "source": [
    "# converting everything to be lower case \n",
    "text = text.lower()"
   ]
  },
  {
   "cell_type": "code",
   "execution_count": 6,
   "id": "cdc79422-eb25-4484-aa46-0738c756db57",
   "metadata": {},
   "outputs": [],
   "source": [
    "# split the corpus into a list of strings with each sentence as a string\n",
    "corpus = re.split(r\"\\. \", text)"
   ]
  },
  {
   "cell_type": "code",
   "execution_count": 7,
   "id": "27514227-927e-4f43-93ed-7714281464c7",
   "metadata": {},
   "outputs": [
    {
     "data": {
      "text/plain": [
       "['chatgpt was fine-tuned on top of gpt-3.5 using supervised learning as well as reinforcement learning',\n",
       " \"[5] both approaches used human trainers to improve the model's performance\",\n",
       " 'in the case of supervised learning, the model was provided with conversations in which the trainers played both sides: the user and the ai assistant',\n",
       " 'in the reinforcement step, human trainers first ranked responses that the model had created in a previous conversation',\n",
       " \"these rankings were used to create 'reward models' that the model was further fine-tuned on using several iterations of proximal policy optimization (ppo)\",\n",
       " '[6][7] proximal policy optimization algorithms present a cost-effective benefit to trust region policy optimization algorithms; they negate many of the computationally expensive operations with faster performance',\n",
       " '[8][9] the models were trained in collaboration with microsoft on their azure supercomputing infrastructure.']"
      ]
     },
     "execution_count": 7,
     "metadata": {},
     "output_type": "execute_result"
    }
   ],
   "source": [
    "corpus"
   ]
  },
  {
   "cell_type": "markdown",
   "id": "82290248-de7e-465a-bca1-f5f98b673e11",
   "metadata": {},
   "source": [
    "### 1.1. Tokenization\n",
    "\n",
    "In this section, we split the sentences into words and store everything in a list. This splitting is called tokenizing.\n"
   ]
  },
  {
   "cell_type": "code",
   "execution_count": 8,
   "id": "b211720e-9231-4c00-b579-a52d157bbdb1",
   "metadata": {},
   "outputs": [
    {
     "data": {
      "text/plain": [
       "[['chatgpt',\n",
       "  'was',\n",
       "  'fine-tuned',\n",
       "  'on',\n",
       "  'top',\n",
       "  'of',\n",
       "  'gpt-3.5',\n",
       "  'using',\n",
       "  'supervised',\n",
       "  'learning',\n",
       "  'as',\n",
       "  'well',\n",
       "  'as',\n",
       "  'reinforcement',\n",
       "  'learning'],\n",
       " ['[5]',\n",
       "  'both',\n",
       "  'approaches',\n",
       "  'used',\n",
       "  'human',\n",
       "  'trainers',\n",
       "  'to',\n",
       "  'improve',\n",
       "  'the',\n",
       "  \"model's\",\n",
       "  'performance'],\n",
       " ['in',\n",
       "  'the',\n",
       "  'case',\n",
       "  'of',\n",
       "  'supervised',\n",
       "  'learning,',\n",
       "  'the',\n",
       "  'model',\n",
       "  'was',\n",
       "  'provided',\n",
       "  'with',\n",
       "  'conversations',\n",
       "  'in',\n",
       "  'which',\n",
       "  'the',\n",
       "  'trainers',\n",
       "  'played',\n",
       "  'both',\n",
       "  'sides:',\n",
       "  'the',\n",
       "  'user',\n",
       "  'and',\n",
       "  'the',\n",
       "  'ai',\n",
       "  'assistant'],\n",
       " ['in',\n",
       "  'the',\n",
       "  'reinforcement',\n",
       "  'step,',\n",
       "  'human',\n",
       "  'trainers',\n",
       "  'first',\n",
       "  'ranked',\n",
       "  'responses',\n",
       "  'that',\n",
       "  'the',\n",
       "  'model',\n",
       "  'had',\n",
       "  'created',\n",
       "  'in',\n",
       "  'a',\n",
       "  'previous',\n",
       "  'conversation'],\n",
       " ['these',\n",
       "  'rankings',\n",
       "  'were',\n",
       "  'used',\n",
       "  'to',\n",
       "  'create',\n",
       "  \"'reward\",\n",
       "  \"models'\",\n",
       "  'that',\n",
       "  'the',\n",
       "  'model',\n",
       "  'was',\n",
       "  'further',\n",
       "  'fine-tuned',\n",
       "  'on',\n",
       "  'using',\n",
       "  'several',\n",
       "  'iterations',\n",
       "  'of',\n",
       "  'proximal',\n",
       "  'policy',\n",
       "  'optimization',\n",
       "  '(ppo)'],\n",
       " ['[6][7]',\n",
       "  'proximal',\n",
       "  'policy',\n",
       "  'optimization',\n",
       "  'algorithms',\n",
       "  'present',\n",
       "  'a',\n",
       "  'cost-effective',\n",
       "  'benefit',\n",
       "  'to',\n",
       "  'trust',\n",
       "  'region',\n",
       "  'policy',\n",
       "  'optimization',\n",
       "  'algorithms;',\n",
       "  'they',\n",
       "  'negate',\n",
       "  'many',\n",
       "  'of',\n",
       "  'the',\n",
       "  'computationally',\n",
       "  'expensive',\n",
       "  'operations',\n",
       "  'with',\n",
       "  'faster',\n",
       "  'performance'],\n",
       " ['[8][9]',\n",
       "  'the',\n",
       "  'models',\n",
       "  'were',\n",
       "  'trained',\n",
       "  'in',\n",
       "  'collaboration',\n",
       "  'with',\n",
       "  'microsoft',\n",
       "  'on',\n",
       "  'their',\n",
       "  'azure',\n",
       "  'supercomputing',\n",
       "  'infrastructure.']]"
      ]
     },
     "execution_count": 8,
     "metadata": {},
     "output_type": "execute_result"
    }
   ],
   "source": [
    "# tokenizing the corpus -> splitting all the words\n",
    "flatten = lambda l:[item for sublist in l for item in sublist]\n",
    "# flatten(corpus_tokenized)\n",
    "corpus_tokenized = [sent.split(\" \") for sent in corpus]\n",
    "corpus_tokenized"
   ]
  },
  {
   "cell_type": "code",
   "execution_count": 9,
   "id": "e7a14cd7-1f19-4074-9421-c5fb9d53800d",
   "metadata": {},
   "outputs": [
    {
     "data": {
      "text/plain": [
       "['benefit',\n",
       " 'previous',\n",
       " 'responses',\n",
       " 'with',\n",
       " 'conversations',\n",
       " 'trainers',\n",
       " 'algorithms',\n",
       " 'azure',\n",
       " 'case',\n",
       " 'further',\n",
       " 'gpt-3.5',\n",
       " 'faster',\n",
       " '[8][9]',\n",
       " 'which',\n",
       " 'both',\n",
       " 'approaches',\n",
       " 'the',\n",
       " 'of',\n",
       " '[6][7]',\n",
       " 'these',\n",
       " 'many',\n",
       " 'learning,',\n",
       " 'several',\n",
       " 'improve',\n",
       " 'step,',\n",
       " 'created',\n",
       " 'human',\n",
       " \"models'\",\n",
       " 'algorithms;',\n",
       " 'provided',\n",
       " \"model's\",\n",
       " 'were',\n",
       " 'performance',\n",
       " 'infrastructure.',\n",
       " 'on',\n",
       " 'rankings',\n",
       " 'played',\n",
       " 'collaboration',\n",
       " 'as',\n",
       " 'optimization',\n",
       " 'models',\n",
       " 'operations',\n",
       " 'to',\n",
       " '(ppo)',\n",
       " 'chatgpt',\n",
       " 'reinforcement',\n",
       " 'assistant',\n",
       " 'microsoft',\n",
       " 'expensive',\n",
       " 'sides:',\n",
       " 'supercomputing',\n",
       " 'iterations',\n",
       " 'they',\n",
       " 'create',\n",
       " 'supervised',\n",
       " 'in',\n",
       " 'proximal',\n",
       " 'that',\n",
       " 'model',\n",
       " 'a',\n",
       " 'fine-tuned',\n",
       " 'ai',\n",
       " \"'reward\",\n",
       " 'their',\n",
       " 'policy',\n",
       " 'top',\n",
       " 'trained',\n",
       " 'trust',\n",
       " 'first',\n",
       " 'used',\n",
       " 'user',\n",
       " 'region',\n",
       " 'negate',\n",
       " 'conversation',\n",
       " 'was',\n",
       " 'cost-effective',\n",
       " 'ranked',\n",
       " 'well',\n",
       " 'present',\n",
       " 'learning',\n",
       " '[5]',\n",
       " 'had',\n",
       " 'using',\n",
       " 'and',\n",
       " 'computationally']"
      ]
     },
     "execution_count": 9,
     "metadata": {},
     "output_type": "execute_result"
    }
   ],
   "source": [
    "# now we take the tokenized corpus and select only the unique words \n",
    "# store it into a list called vocabs\n",
    "vocabs = list(set(flatten(corpus_tokenized)))\n",
    "vocabs"
   ]
  },
  {
   "cell_type": "markdown",
   "id": "730eb49d-36f1-4f93-8c06-742aa638572c",
   "metadata": {},
   "source": [
    "### Numericalization\n",
    "- Here, we index all the words in the vocabs\n",
    "- Cause machine does not understand strings\n",
    "- For things to make sense for the machine, numbers are required\n",
    "- We will eventually add embeddings for all the indices"
   ]
  },
  {
   "cell_type": "code",
   "execution_count": 10,
   "id": "40509f37-da5f-4b34-a0fa-dbcb33ad192d",
   "metadata": {},
   "outputs": [
    {
     "data": {
      "text/plain": [
       "{'benefit': 0,\n",
       " 'previous': 1,\n",
       " 'responses': 2,\n",
       " 'with': 3,\n",
       " 'conversations': 4,\n",
       " 'trainers': 5,\n",
       " 'algorithms': 6,\n",
       " 'azure': 7,\n",
       " 'case': 8,\n",
       " 'further': 9,\n",
       " 'gpt-3.5': 10,\n",
       " 'faster': 11,\n",
       " '[8][9]': 12,\n",
       " 'which': 13,\n",
       " 'both': 14,\n",
       " 'approaches': 15,\n",
       " 'the': 16,\n",
       " 'of': 17,\n",
       " '[6][7]': 18,\n",
       " 'these': 19,\n",
       " 'many': 20,\n",
       " 'learning,': 21,\n",
       " 'several': 22,\n",
       " 'improve': 23,\n",
       " 'step,': 24,\n",
       " 'created': 25,\n",
       " 'human': 26,\n",
       " \"models'\": 27,\n",
       " 'algorithms;': 28,\n",
       " 'provided': 29,\n",
       " \"model's\": 30,\n",
       " 'were': 31,\n",
       " 'performance': 32,\n",
       " 'infrastructure.': 33,\n",
       " 'on': 34,\n",
       " 'rankings': 35,\n",
       " 'played': 36,\n",
       " 'collaboration': 37,\n",
       " 'as': 38,\n",
       " 'optimization': 39,\n",
       " 'models': 40,\n",
       " 'operations': 41,\n",
       " 'to': 42,\n",
       " '(ppo)': 43,\n",
       " 'chatgpt': 44,\n",
       " 'reinforcement': 45,\n",
       " 'assistant': 46,\n",
       " 'microsoft': 47,\n",
       " 'expensive': 48,\n",
       " 'sides:': 49,\n",
       " 'supercomputing': 50,\n",
       " 'iterations': 51,\n",
       " 'they': 52,\n",
       " 'create': 53,\n",
       " 'supervised': 54,\n",
       " 'in': 55,\n",
       " 'proximal': 56,\n",
       " 'that': 57,\n",
       " 'model': 58,\n",
       " 'a': 59,\n",
       " 'fine-tuned': 60,\n",
       " 'ai': 61,\n",
       " \"'reward\": 62,\n",
       " 'their': 63,\n",
       " 'policy': 64,\n",
       " 'top': 65,\n",
       " 'trained': 66,\n",
       " 'trust': 67,\n",
       " 'first': 68,\n",
       " 'used': 69,\n",
       " 'user': 70,\n",
       " 'region': 71,\n",
       " 'negate': 72,\n",
       " 'conversation': 73,\n",
       " 'was': 74,\n",
       " 'cost-effective': 75,\n",
       " 'ranked': 76,\n",
       " 'well': 77,\n",
       " 'present': 78,\n",
       " 'learning': 79,\n",
       " '[5]': 80,\n",
       " 'had': 81,\n",
       " 'using': 82,\n",
       " 'and': 83,\n",
       " 'computationally': 84}"
      ]
     },
     "execution_count": 10,
     "metadata": {},
     "output_type": "execute_result"
    }
   ],
   "source": [
    "\n",
    "word2index = {v:idx for idx,v in enumerate(vocabs)}\n",
    "word2index"
   ]
  },
  {
   "cell_type": "markdown",
   "id": "d1b4cdc2-99ea-44e0-ab69-207143d83fdf",
   "metadata": {},
   "source": [
    "We will add a new string called **UNK** to the vocab which will represent the words that are not in the scope of the corpus"
   ]
  },
  {
   "cell_type": "code",
   "execution_count": 11,
   "id": "5c7b4ef5-5ea4-47b9-bddb-46cd9dbd90f1",
   "metadata": {},
   "outputs": [],
   "source": [
    "word2index['<UNK>'] = 85"
   ]
  },
  {
   "cell_type": "code",
   "execution_count": 12,
   "id": "eea463b4-e0db-4032-8730-e3f7aa4bb4be",
   "metadata": {},
   "outputs": [],
   "source": [
    "vocabs.append('<UNK>')"
   ]
  },
  {
   "cell_type": "code",
   "execution_count": 13,
   "id": "1a002bbd-1d86-46eb-af21-28d47f5757ff",
   "metadata": {},
   "outputs": [
    {
     "data": {
      "text/plain": [
       "'<UNK>'"
      ]
     },
     "execution_count": 13,
     "metadata": {},
     "output_type": "execute_result"
    }
   ],
   "source": [
    "vocabs[85]"
   ]
  },
  {
   "cell_type": "markdown",
   "id": "fdeee3d9-d8f5-452a-bc50-7ddaa71561a3",
   "metadata": {},
   "source": [
    "# 2. Prepare the Data + Model + Test Model + Training + Plot Embeddings\n",
    "In this section, we use 3 methods for preparing the Data and for each methods, models are formulated<br>\n",
    "**2.1 CBow**<br>\n",
    "**2.2 Skipgram**<br>\n",
    "**2.3 Skipgram with Negative Sampling**"
   ]
  },
  {
   "cell_type": "markdown",
   "id": "f2afe808-18e7-4c3f-a099-2c0b85b58c3f",
   "metadata": {},
   "source": [
    "### 2.1. CBow\n",
    "\n",
    "The main intuition behind CBow is it used to predict the center word using the context words."
   ]
  },
  {
   "cell_type": "markdown",
   "id": "52c7bdf2-3dc9-4816-8ee5-185d08d26d92",
   "metadata": {},
   "source": [
    "#### 2.1.1. Data Preparation"
   ]
  },
  {
   "cell_type": "code",
   "execution_count": 15,
   "id": "a9d5ae75-535e-455f-a6c8-e3636b892e98",
   "metadata": {},
   "outputs": [],
   "source": [
    "# a function that creates batches of words\n",
    "# center and context words\n",
    "# adding window size to the function to make it flexible\n",
    "\n",
    "def cbow_random_batch(batch_size,corpus,window_size):\n",
    "    cbow = []\n",
    "    #for each corpus\n",
    "    for sent in corpus_tokenized:\n",
    "        #\n",
    "        for i in range(window_size,len(sent)-window_size): #start from 2 to second last\n",
    "            context_word = []\n",
    "            # print(sent[i])\n",
    "            center_word = word2index[sent[i]]\n",
    "            for j in range(window_size):\n",
    "                outside_word = [word2index[sent[i-j-1]],word2index[sent[i+j+1]]] #window_size adjustable\n",
    "                #loop through the outside to get all the context words in one list context word\n",
    "                for o in outside_word:\n",
    "                    context_word.append(o)\n",
    "                # append context and center word together\n",
    "                #Here, the context word will hold a list of words and center word is a single word\n",
    "                #cbow is a list of lists\n",
    "                cbow.append([context_word,center_word])\n",
    "    \n",
    "#     same as before\n",
    "    random_index = np.random.choice(range(len(cbow)),batch_size,replace=False)\n",
    "    #appending some list of inputs and labels\n",
    "    random_inputs, random_labels = [] , []\n",
    "    for index in random_index:\n",
    "        random_inputs.append([cbow[index][0]]) #center words, this will be as shape of (1,) -> (1,1) for modeling\n",
    "        random_labels.append([cbow[index][1]])\n",
    "    \n",
    "#     returning the inputs and labels\n",
    "    return np.array(random_inputs),np.array(random_labels)"
   ]
  },
  {
   "cell_type": "code",
   "execution_count": 16,
   "id": "83069207-67c6-43af-bc93-469647b8be27",
   "metadata": {},
   "outputs": [
    {
     "data": {
      "text/plain": [
       "(array([[[16, 17, 55, 54]],\n",
       " \n",
       "        [[68,  2,  5, 57]]]),\n",
       " array([[ 8],\n",
       "        [76]]))"
      ]
     },
     "execution_count": 16,
     "metadata": {},
     "output_type": "execute_result"
    }
   ],
   "source": [
    "\n",
    "batch_size=2\n",
    "cbow_random_batch(batch_size, corpus_tokenized,2)"
   ]
  },
  {
   "cell_type": "markdown",
   "id": "58ec4381-5a00-4299-85b9-a8af71f01c6c",
   "metadata": {},
   "source": [
    "### 2.1.2. Model"
   ]
  },
  {
   "cell_type": "code",
   "execution_count": 17,
   "id": "f742c7b7-67e4-418e-8cc3-220b6731b589",
   "metadata": {},
   "outputs": [],
   "source": [
    "class Cbow(nn.Module):\n",
    "    \n",
    "    def __init__(self, voc_size, emb_size):\n",
    "        super(Cbow, self).__init__()\n",
    "        self.embedding_center_word = nn.Embedding(voc_size, emb_size)  #is a lookup table mapping all ids in voc_size, into some vector of size emb_size\n",
    "        self.embedding_outside_word = nn.Embedding(voc_size, emb_size)\n",
    "        \n",
    "    def forward(self, center_word, outside_word, all_vocabs):\n",
    "        #center_word, outside_word: (batch_size, 1)\n",
    "        #all_vocabs: (batch_size, voc_size)\n",
    "        \n",
    "        #convert them into embedding\n",
    "        center_word_embed  = self.embedding_center_word(center_word)     #(batch_size, 1, emb_size)\n",
    "        outside_word_embed = self.embedding_outside_word(outside_word)   #(batch_size, 1, emb_size)\n",
    "        all_vocabs_embed   = self.embedding_outside_word(all_vocabs)     #(batch_size, voc_size, emb_size)\n",
    "        \n",
    "        #bmm is basically @ or .dot , but across batches (i.e., ignore the batch dimension)\n",
    "        top_term = outside_word_embed.bmm(center_word_embed.transpose(1, 2)).squeeze(2)\n",
    "        #(batch_size, 1, emb_size) @ (batch_size, emb_size, 1) = (batch_size, 1, 1) ===> (batch_size, 1)\n",
    "        \n",
    "        top_term_exp = torch.exp(top_term)  #exp(uo vc)\n",
    "        #(batch_size, 1)\n",
    "        \n",
    "        lower_term = all_vocabs_embed.bmm(center_word_embed.transpose(1, 2)).squeeze(2)\n",
    "         #(batch_size, voc_size, emb_size) @ (batch_size, emb_size, 1) = (batch_size, voc_size, 1) = (batch_size, voc_size)\n",
    "         \n",
    "        # lower_term_sum = torch.sum(torch.exp(lower_term), 1) #sum exp(uw vc)\n",
    "        lower_term_sum = torch.sum(torch.exp(lower_term))\n",
    "        #(batch_size, 1)\n",
    "        \n",
    "        loss_fn = -torch.mean(torch.log(top_term_exp / lower_term_sum))\n",
    "        #(batch_size, 1) / (batch_size, 1) ==mean==> scalar\n",
    "        \n",
    "        return loss_fn\n",
    "    "
   ]
  },
  {
   "cell_type": "code",
   "execution_count": 18,
   "id": "fbd27de7-0399-49da-b0f4-6da26a38ff8b",
   "metadata": {},
   "outputs": [],
   "source": [
    "voc_size = len(vocabs)\n",
    "emb_size=2\n",
    "cbow_model = Cbow(voc_size,emb_size)"
   ]
  },
  {
   "cell_type": "code",
   "execution_count": 19,
   "id": "8373f42e-ba32-4909-9373-1d82cf2aba50",
   "metadata": {},
   "outputs": [
    {
     "data": {
      "text/plain": [
       "(array([[[72, 17, 52, 16]],\n",
       " \n",
       "        [[47, 63,  3,  7]],\n",
       " \n",
       "        [[ 4, 13,  3, 16]],\n",
       " \n",
       "        [[53, 27, 42, 57]],\n",
       " \n",
       "        [[72, 17, 52, 16]],\n",
       " \n",
       "        [[ 3, 34, 37, 63]],\n",
       " \n",
       "        [[39, 52, 64, 72]],\n",
       " \n",
       "        [[16, 74, 21, 29]],\n",
       " \n",
       "        [[42, 16,  5, 30]],\n",
       " \n",
       "        [[69, 53, 31, 62]]]),\n",
       " array([[20],\n",
       "        [34],\n",
       "        [55],\n",
       "        [62],\n",
       "        [20],\n",
       "        [47],\n",
       "        [28],\n",
       "        [58],\n",
       "        [23],\n",
       "        [42]]),\n",
       " 86)"
      ]
     },
     "execution_count": 19,
     "metadata": {},
     "output_type": "execute_result"
    }
   ],
   "source": [
    "WINDOW_SIZE=2\n",
    "\n",
    "input_cbow,label_cbow = cbow_random_batch(10,corpus,WINDOW_SIZE)\n",
    "input_cbow,label_cbow,voc_size"
   ]
  },
  {
   "cell_type": "code",
   "execution_count": 62,
   "id": "c10840d9-cfab-44c7-b9a6-f8cd133a1db8",
   "metadata": {},
   "outputs": [],
   "source": [
    "# needs to be long cause all tokens are integers\n",
    "input_tensor = torch.LongTensor(input_cbow)\n",
    "label_tensor = torch.LongTensor(label_cbow)  #LongTensor basically means integer...."
   ]
  },
  {
   "cell_type": "code",
   "execution_count": 63,
   "id": "64ce5e41-25f3-43fe-bd08-9e55d975d6a6",
   "metadata": {},
   "outputs": [
    {
     "data": {
      "text/plain": [
       "torch.Size([2, 86])"
      ]
     },
     "execution_count": 63,
     "metadata": {},
     "output_type": "execute_result"
    }
   ],
   "source": [
    "batch_size = 2\n",
    "\n",
    "def prepare_sequence(seq, word2index):\n",
    "    #map(function, list of something)\n",
    "    #map will look at each of element in this list, and apply this function\n",
    "    idxs = list(map(lambda w: word2index[w] if word2index.get(w) is not None else word2index[\"<UNK>\"], seq))\n",
    "    return torch.LongTensor(idxs)\n",
    "\n",
    "all_vocabs = prepare_sequence(list(vocabs), word2index).expand(batch_size, voc_size)\n",
    "all_vocabs.shape"
   ]
  },
  {
   "cell_type": "code",
   "execution_count": 65,
   "id": "b8ac55f4-5948-40df-a973-095482f9bb70",
   "metadata": {},
   "outputs": [],
   "source": [
    " loss = cbow_model(input_tensor, label_tensor, all_vocabs)\n",
    "#Error - batch2 must be a 3D tensor"
   ]
  },
  {
   "cell_type": "markdown",
   "id": "28f208a2-7e46-4c2c-8927-158936509cc0",
   "metadata": {},
   "source": [
    "### 2.2 Skigram\n",
    "\n",
    "Here we create the random batch function\n",
    "The function is as same as done in the tutorial session so much explanation has not been done"
   ]
  },
  {
   "cell_type": "code",
   "execution_count": 24,
   "id": "461f69e4-8db5-4977-8ab2-b469470b588d",
   "metadata": {},
   "outputs": [],
   "source": [
    "def skipgram_random_batch(batch_size, corpus):\n",
    "    \n",
    "    skipgrams = []\n",
    "\n",
    "    #for each corpus\n",
    "    for sent in corpus_tokenized:\n",
    "        #for each sent [\"apple\", \"banana\", \"fruit\"]\n",
    "        for i in range(1, len(sent) - 1): #start from 1 to second last\n",
    "            center_word = word2index[sent[i]]\n",
    "            outside_words = [word2index[sent[i-1]], word2index[sent[i+1]]]  #window_size = 1\n",
    "            for o in outside_words:\n",
    "                skipgrams.append([center_word, o])\n",
    "                \n",
    "    #only get a batch, not the entire list\n",
    "    random_index = np.random.choice(range(len(skipgrams)), batch_size, replace=False)\n",
    "             \n",
    "    #appending some list of inputs and labels\n",
    "    random_inputs, random_labels = [], []   \n",
    "    for index in random_index:\n",
    "        random_inputs.append([skipgrams[index][0]])  #center words, this will be a shape of (1, ) --> (1, 1) for modeling\n",
    "        random_labels.append([skipgrams[index][1]])\n",
    "        \n",
    "    return np.array(random_inputs), np.array(random_labels)"
   ]
  },
  {
   "cell_type": "code",
   "execution_count": 25,
   "id": "5a0095d0-bd78-4dc5-89a5-8269b80cdc7d",
   "metadata": {},
   "outputs": [
    {
     "name": "stdout",
     "output_type": "stream",
     "text": [
      "(10, 1)\n",
      "label=array([[51],\n",
      "       [16],\n",
      "       [34],\n",
      "       [49],\n",
      "       [83],\n",
      "       [79],\n",
      "       [68],\n",
      "       [12],\n",
      "       [23],\n",
      "       [35]])\n"
     ]
    }
   ],
   "source": [
    "input, label = skipgram_random_batch(10, corpus_tokenized)\n",
    "\n",
    "print(f\"{input.shape}\")\n",
    "print(f\"{label=}\")"
   ]
  },
  {
   "cell_type": "markdown",
   "id": "2af3b45b-07e4-495a-9087-118891f016c7",
   "metadata": {},
   "source": [
    "### 2.2.2. Model"
   ]
  },
  {
   "cell_type": "code",
   "execution_count": 26,
   "id": "7b4c15c9-ecc3-4faf-a99a-02bc8556130e",
   "metadata": {},
   "outputs": [
    {
     "data": {
      "text/plain": [
       "86"
      ]
     },
     "execution_count": 26,
     "metadata": {},
     "output_type": "execute_result"
    }
   ],
   "source": [
    "voc_size = len(vocabs)\n",
    "voc_size"
   ]
  },
  {
   "cell_type": "code",
   "execution_count": 27,
   "id": "4fd62ec1-dedd-49cf-a394-ef443588996c",
   "metadata": {},
   "outputs": [],
   "source": [
    "#the model will accept three vectors - u_o, v_c, u_w\n",
    "#u_o - vector for outside words\n",
    "#v_c - vector for center word\n",
    "#u_w - vectors of all vocabs\n",
    "\n",
    "class Skipgram(nn.Module):\n",
    "    \n",
    "    def __init__(self, voc_size, emb_size):\n",
    "        super(Skipgram, self).__init__()\n",
    "        self.embedding_center_word  = nn.Embedding(voc_size, emb_size)  #is a lookup table mapping all ids in voc_size, into some vector of size emb_size\n",
    "        self.embedding_outside_word = nn.Embedding(voc_size, emb_size)\n",
    "    \n",
    "    def forward(self, center_word, outside_word, all_vocabs):\n",
    "        #center_word, outside_word: (batch_size, 1)\n",
    "        #all_vocabs: (batch_size, voc_size)\n",
    "        \n",
    "        #convert them into embedding\n",
    "        center_word_embed  = self.embedding_center_word(center_word)     #(batch_size, 1, emb_size)\n",
    "        outside_word_embed = self.embedding_outside_word(outside_word)   #(batch_size, 1, emb_size)\n",
    "        all_vocabs_embed   = self.embedding_outside_word(all_vocabs)     #(batch_size, voc_size, emb_size)\n",
    "        \n",
    "        #bmm is basically @ or .dot , but across batches (i.e., ignore the batch dimension)\n",
    "        top_term = outside_word_embed.bmm(center_word_embed.transpose(1, 2)).squeeze(2)\n",
    "        #(batch_size, 1, emb_size) @ (batch_size, emb_size, 1) = (batch_size, 1, 1) ===> (batch_size, 1)\n",
    "        \n",
    "        top_term_exp = torch.exp(top_term)  #exp(uo vc)\n",
    "        #(batch_size, 1)\n",
    "        \n",
    "        lower_term = all_vocabs_embed.bmm(center_word_embed.transpose(1, 2)).squeeze(2)\n",
    "         #(batch_size, voc_size, emb_size) @ (batch_size, emb_size, 1) = (batch_size, voc_size, 1) = (batch_size, voc_size)\n",
    "         \n",
    "        lower_term_sum = torch.sum(torch.exp(lower_term), 1) #sum exp(uw vc)\n",
    "        #(batch_size, 1)\n",
    "        \n",
    "        loss_fn = -torch.mean(torch.log(top_term_exp / lower_term_sum))\n",
    "        #(batch_size, 1) / (batch_size, 1) ==mean==> scalar\n",
    "        \n",
    "        return loss_fn"
   ]
  },
  {
   "cell_type": "code",
   "execution_count": 28,
   "id": "ff470641-57be-49d1-a1a8-a87e697d1211",
   "metadata": {},
   "outputs": [
    {
     "data": {
      "text/plain": [
       "torch.Size([2, 86])"
      ]
     },
     "execution_count": 28,
     "metadata": {},
     "output_type": "execute_result"
    }
   ],
   "source": [
    "batch_size = 2\n",
    "\n",
    "def prepare_sequence(seq, word2index):\n",
    "    #map(function, list of something)\n",
    "    #map will look at each of element in this list, and apply this function\n",
    "    idxs = list(map(lambda w: word2index[w] if word2index.get(w) is not None else word2index[\"<UNK>\"], seq))\n",
    "    return torch.LongTensor(idxs)\n",
    "\n",
    "all_vocabs = prepare_sequence(list(vocabs), word2index).expand(batch_size, voc_size)\n",
    "all_vocabs.shape"
   ]
  },
  {
   "cell_type": "code",
   "execution_count": 29,
   "id": "f8e79545-2ec3-436f-8fa0-d09f0c67c3fc",
   "metadata": {},
   "outputs": [
    {
     "data": {
      "text/plain": [
       "array([[54],\n",
       "       [39]])"
      ]
     },
     "execution_count": 29,
     "metadata": {},
     "output_type": "execute_result"
    }
   ],
   "source": [
    "input, label = skipgram_random_batch(batch_size, corpus_tokenized)\n",
    "input\n",
    "# input #center word"
   ]
  },
  {
   "cell_type": "code",
   "execution_count": 30,
   "id": "b32b4766-8e34-4f16-84a0-6e285b648267",
   "metadata": {},
   "outputs": [],
   "source": [
    "emb_size = 2 #usually, this can be 50, 100, or 300\n",
    "model = Skipgram(voc_size, emb_size)"
   ]
  },
  {
   "cell_type": "code",
   "execution_count": 31,
   "id": "76d5f729-9430-46a9-95ce-21102edcb6e8",
   "metadata": {},
   "outputs": [],
   "source": [
    "input_tensor = torch.LongTensor(input)  \n",
    "label_tensor = torch.LongTensor(label)  #LongTensor basically means integer...."
   ]
  },
  {
   "cell_type": "code",
   "execution_count": 32,
   "id": "b45c7529-62f6-4075-9ca6-136d8f86a21f",
   "metadata": {},
   "outputs": [],
   "source": [
    "loss = model(input_tensor, label_tensor, all_vocabs)\n"
   ]
  },
  {
   "cell_type": "code",
   "execution_count": 33,
   "id": "e997c7cd-8613-4784-9fd3-1ceaedfceaf0",
   "metadata": {},
   "outputs": [
    {
     "data": {
      "text/plain": [
       "tensor(5.1596, grad_fn=<NegBackward0>)"
      ]
     },
     "execution_count": 33,
     "metadata": {},
     "output_type": "execute_result"
    }
   ],
   "source": [
    "loss"
   ]
  },
  {
   "cell_type": "markdown",
   "id": "3df4be5c-ead6-413c-8398-b05226806f75",
   "metadata": {},
   "source": [
    "### 2.2.3 Training"
   ]
  },
  {
   "cell_type": "code",
   "execution_count": 36,
   "id": "c75acea0-fa05-4338-90c5-0ad5b9cb9182",
   "metadata": {},
   "outputs": [],
   "source": [
    "batch_size = 2 #why?  no reason; \n",
    "emb_size   = 2 #why?  no reason; usually 50, 100, 300, but 2 so we can plot (50 can also plot, but need PCA)\n",
    "skipgram_model      = Skipgram(voc_size, emb_size)\n",
    "\n",
    "optimizer  = optim.Adam(model.parameters(), lr=0.001)"
   ]
  },
  {
   "cell_type": "code",
   "execution_count": 37,
   "id": "fa1b746c-868d-4bfa-90b7-63741cfecb2c",
   "metadata": {},
   "outputs": [],
   "source": [
    "# copied from Chaky's lecture notebook on skipgram with scratch\n",
    "\n",
    "def epoch_time(start_time, end_time):\n",
    "    elapsed_time = end_time - start_time\n",
    "    elapsed_mins = int(elapsed_time / 60)\n",
    "    elapsed_secs = int(elapsed_time - (elapsed_mins * 60))\n",
    "    return elapsed_mins, elapsed_secs"
   ]
  },
  {
   "cell_type": "code",
   "execution_count": 38,
   "id": "46040117-85b4-4691-b7b3-48db0384cc9f",
   "metadata": {},
   "outputs": [
    {
     "name": "stdout",
     "output_type": "stream",
     "text": [
      "Epoch: 1000 | cost: 4.744878 | time: 0m 1s\n",
      "Epoch: 2000 | cost: 6.116297 | time: 0m 2s\n",
      "Epoch: 3000 | cost: 4.925833 | time: 0m 3s\n",
      "Epoch: 4000 | cost: 4.273641 | time: 0m 5s\n",
      "Epoch: 5000 | cost: 4.504857 | time: 0m 6s\n"
     ]
    }
   ],
   "source": [
    "import time\n",
    "\n",
    "# Training\n",
    "num_epochs = 5000\n",
    "start = time.time()\n",
    "for epoch in range(num_epochs):\n",
    "    \n",
    "    \n",
    "    \n",
    "    input_batch, target_batch = skipgram_random_batch(batch_size, corpus)\n",
    "    input_batch  = torch.LongTensor(input_batch)  #[batch_size, 1]\n",
    "    target_batch = torch.LongTensor(target_batch) #[batch_size, 1]\n",
    "\n",
    "    optimizer.zero_grad()\n",
    "    loss = skipgram_model(input_batch, target_batch, all_vocabs)\n",
    "    \n",
    "    loss.backward()\n",
    "    optimizer.step()\n",
    "    \n",
    "    end = time.time()\n",
    "    \n",
    "    epoch_mins, epoch_secs = epoch_time(start, end)\n",
    "\n",
    "    if (epoch + 1) % 1000 == 0:\n",
    "        print(f\"Epoch: {epoch + 1} | cost: {loss:.6f} | time: {epoch_mins}m {epoch_secs}s\")"
   ]
  },
  {
   "cell_type": "markdown",
   "id": "231d1a0d-b0fa-48b7-821f-4391bdb250da",
   "metadata": {},
   "source": [
    "### 2.2.4. Plotting"
   ]
  },
  {
   "cell_type": "code",
   "execution_count": 41,
   "id": "84ed3f9a-a480-4968-8ed6-e86059eae1b4",
   "metadata": {},
   "outputs": [],
   "source": [
    "def get_embed(word):\n",
    "    try:\n",
    "        index = word2index[word]\n",
    "    except:\n",
    "        index = word2index['<UNK>']\n",
    "    \n",
    "    word = torch.LongTensor([index])\n",
    "\n",
    "    center_embed  = skipgram_model.embedding_center_word(word)\n",
    "    outside_embed = skipgram_model.embedding_outside_word(word)\n",
    "    \n",
    "    embed = (center_embed + outside_embed) / 2\n",
    "    \n",
    "    return  embed[0][0].item(), embed[0][1].item()"
   ]
  },
  {
   "cell_type": "code",
   "execution_count": 43,
   "id": "b756fb54-2d4a-4e99-b452-7e4324d982c1",
   "metadata": {},
   "outputs": [
    {
     "data": {
      "image/png": "[encoded data removed]",
      "text/plain": [
       "<Figure size 432x216 with 1 Axes>"
      ]
     },
     "metadata": {
      "needs_background": "light"
     },
     "output_type": "display_data"
    }
   ],
   "source": [
    "plt.figure(figsize=(6,3))\n",
    "for i, word in enumerate(vocabs[:20]): #loop each unique vocab\n",
    "    x, y = get_embed(word)\n",
    "    plt.scatter(x, y)\n",
    "    plt.annotate(word, xy=(x, y), xytext=(5, 2), textcoords='offset points')\n",
    "plt.show()"
   ]
  },
  {
   "cell_type": "markdown",
   "id": "822978ff-71c1-4e1a-8f13-174e23ae0073",
   "metadata": {},
   "source": [
    "### 2.3 Negative sampling Skipgram"
   ]
  },
  {
   "cell_type": "code",
   "execution_count": 44,
   "id": "d96ed9e3-7796-42e6-94f9-bd622dc3ec66",
   "metadata": {},
   "outputs": [],
   "source": [
    "def negative_sampling_random_batch(batch_size, word_sequence):\n",
    "    \n",
    "    # Make skip gram of one size window\n",
    "    skip_grams = []\n",
    "    # loop each word sequence\n",
    "    # we starts from 1 because 0 has no context\n",
    "    # we stop at second last for the same reason\n",
    "    for sent in corpus_tokenized:\n",
    "        for i in range(1, len(sent) - 1):\n",
    "            target = word2index[sent[i]]\n",
    "            context = [word2index[sent[i - 1]], word2index[sent[i + 1]]]\n",
    "            for w in context:\n",
    "                skip_grams.append([target, w])\n",
    "    \n",
    "    random_inputs = []\n",
    "    random_labels = []\n",
    "    random_index = np.random.choice(range(len(skip_grams)), batch_size, replace=False) #randomly pick without replacement\n",
    "        \n",
    "    for i in random_index:\n",
    "        random_inputs.append([skip_grams[i][0]])  # target, e.g., 2\n",
    "        random_labels.append([skip_grams[i][1]])  # context word, e.g., 3\n",
    "            \n",
    "    return np.array(random_inputs), np.array(random_labels)"
   ]
  },
  {
   "cell_type": "code",
   "execution_count": 45,
   "id": "a74d9f71-df76-41e5-9052-611ea1d90cb0",
   "metadata": {},
   "outputs": [
    {
     "name": "stdout",
     "output_type": "stream",
     "text": [
      "Input:  [[17]\n",
      " [78]]\n",
      "Target:  [[56]\n",
      " [ 6]]\n"
     ]
    }
   ],
   "source": [
    "#testing the method\n",
    "batch_size = 2 # mini-batch size\n",
    "input_batch, target_batch = negative_sampling_random_batch(batch_size, corpus)\n",
    "\n",
    "print(\"Input: \",  input_batch)\n",
    "print(\"Target: \", target_batch)\n",
    "\n",
    "#we will convert them to tensor during training, so don't worry..."
   ]
  },
  {
   "cell_type": "code",
   "execution_count": 46,
   "id": "52c7cdda-20e9-47fc-a6be-187335fabf30",
   "metadata": {},
   "outputs": [
    {
     "data": {
      "text/plain": [
       "((2, 1), (2, 1))"
      ]
     },
     "execution_count": 46,
     "metadata": {},
     "output_type": "execute_result"
    }
   ],
   "source": [
    "input_batch.shape, target_batch.shape\n"
   ]
  },
  {
   "cell_type": "markdown",
   "id": "a48b0c7f-1e1e-4c20-bf96-e9086b7c6861",
   "metadata": {},
   "source": [
    "## 2.3.1. Unigram Distribution"
   ]
  },
  {
   "cell_type": "code",
   "execution_count": 47,
   "id": "8cefe354-a3bf-4eea-90d8-ffea98895bcb",
   "metadata": {},
   "outputs": [
    {
     "data": {
      "text/plain": [
       "0"
      ]
     },
     "execution_count": 47,
     "metadata": {},
     "output_type": "execute_result"
    }
   ],
   "source": [
    "from collections import Counter\n",
    "\n",
    "word_count = Counter(flatten(corpus_tokenized))\n",
    "num_total_words = sum([c for w, c in word_count.items()])\n",
    "word_count[',']"
   ]
  },
  {
   "cell_type": "code",
   "execution_count": 48,
   "id": "1350239e-225b-4530-8f71-78f6be23e466",
   "metadata": {},
   "outputs": [
    {
     "data": {
      "text/plain": [
       "0"
      ]
     },
     "execution_count": 48,
     "metadata": {},
     "output_type": "execute_result"
    }
   ],
   "source": [
    "word_count[',']\n"
   ]
  },
  {
   "cell_type": "code",
   "execution_count": 49,
   "id": "514a7565-8089-4bf6-994e-38ef02c2f847",
   "metadata": {},
   "outputs": [
    {
     "data": {
      "text/plain": [
       "132"
      ]
     },
     "execution_count": 49,
     "metadata": {},
     "output_type": "execute_result"
    }
   ],
   "source": [
    "num_total_words"
   ]
  },
  {
   "cell_type": "code",
   "execution_count": 50,
   "id": "81fd3068-de89-4659-9383-8fa0a35b7bda",
   "metadata": {},
   "outputs": [],
   "source": [
    "Z = 0.001\n",
    "\n",
    "unigram_table = []\n",
    "\n",
    "for vo in vocabs:\n",
    "    unigram_table.extend([vo] * int(((word_count[vo]/num_total_words)**0.75)/Z))"
   ]
  },
  {
   "cell_type": "code",
   "execution_count": 51,
   "id": "8ee2774b-8a4e-4934-bbf2-05e7c0f922a3",
   "metadata": {},
   "outputs": [
    {
     "data": {
      "text/plain": [
       "Counter({'benefit': 25,\n",
       "         'previous': 25,\n",
       "         'responses': 25,\n",
       "         'with': 58,\n",
       "         'conversations': 25,\n",
       "         'trainers': 58,\n",
       "         'algorithms': 25,\n",
       "         'azure': 25,\n",
       "         'case': 25,\n",
       "         'further': 25,\n",
       "         'gpt-3.5': 25,\n",
       "         'faster': 25,\n",
       "         '[8][9]': 25,\n",
       "         'which': 25,\n",
       "         'both': 43,\n",
       "         'approaches': 25,\n",
       "         'the': 155,\n",
       "         'of': 72,\n",
       "         '[6][7]': 25,\n",
       "         'these': 25,\n",
       "         'many': 25,\n",
       "         'learning,': 25,\n",
       "         'several': 25,\n",
       "         'improve': 25,\n",
       "         'step,': 25,\n",
       "         'created': 25,\n",
       "         'human': 43,\n",
       "         \"models'\": 25,\n",
       "         'algorithms;': 25,\n",
       "         'provided': 25,\n",
       "         \"model's\": 25,\n",
       "         'were': 43,\n",
       "         'performance': 43,\n",
       "         'infrastructure.': 25,\n",
       "         'on': 58,\n",
       "         'rankings': 25,\n",
       "         'played': 25,\n",
       "         'collaboration': 25,\n",
       "         'as': 43,\n",
       "         'optimization': 58,\n",
       "         'models': 25,\n",
       "         'operations': 25,\n",
       "         'to': 58,\n",
       "         '(ppo)': 25,\n",
       "         'chatgpt': 25,\n",
       "         'reinforcement': 43,\n",
       "         'assistant': 25,\n",
       "         'microsoft': 25,\n",
       "         'expensive': 25,\n",
       "         'sides:': 25,\n",
       "         'supercomputing': 25,\n",
       "         'iterations': 25,\n",
       "         'they': 25,\n",
       "         'create': 25,\n",
       "         'supervised': 43,\n",
       "         'in': 85,\n",
       "         'proximal': 43,\n",
       "         'that': 43,\n",
       "         'model': 58,\n",
       "         'a': 43,\n",
       "         'fine-tuned': 43,\n",
       "         'ai': 25,\n",
       "         \"'reward\": 25,\n",
       "         'their': 25,\n",
       "         'policy': 58,\n",
       "         'top': 25,\n",
       "         'trained': 25,\n",
       "         'trust': 25,\n",
       "         'first': 25,\n",
       "         'used': 43,\n",
       "         'user': 25,\n",
       "         'region': 25,\n",
       "         'negate': 25,\n",
       "         'conversation': 25,\n",
       "         'was': 58,\n",
       "         'cost-effective': 25,\n",
       "         'ranked': 25,\n",
       "         'well': 25,\n",
       "         'present': 25,\n",
       "         'learning': 43,\n",
       "         '[5]': 25,\n",
       "         'had': 25,\n",
       "         'using': 43,\n",
       "         'and': 25,\n",
       "         'computationally': 25})"
      ]
     },
     "execution_count": 51,
     "metadata": {},
     "output_type": "execute_result"
    }
   ],
   "source": [
    "Counter(unigram_table)\n"
   ]
  },
  {
   "cell_type": "code",
   "execution_count": 52,
   "id": "9bb8c638-436d-4550-a22a-ec9a5b742dcb",
   "metadata": {},
   "outputs": [],
   "source": [
    "\n",
    "def prepare_sequence(seq, word2index):\n",
    "    idxs = list(map(lambda w: word2index[w] if word2index.get(w) is not None else word2index[\"<UNK>\"], seq))\n",
    "    return torch.LongTensor(idxs)\n",
    "\n",
    "def negative_sampling(targets, unigram_table, k):\n",
    "    batch_size = targets.size(0)\n",
    "    neg_samples = []\n",
    "    for i in range(batch_size):\n",
    "        nsample = []\n",
    "        target_index = targets[i].item()\n",
    "        while len(nsample) < k: # num of sampling\n",
    "            neg = random.choice(unigram_table)\n",
    "            if word2index[neg] == target_index:\n",
    "                continue\n",
    "            nsample.append(neg)\n",
    "        neg_samples.append(prepare_sequence(nsample, word2index).view(1, -1))\n",
    "    \n",
    "    return torch.cat(neg_samples)"
   ]
  },
  {
   "cell_type": "code",
   "execution_count": 53,
   "id": "f1f59376-c665-4319-bda3-840bb49b7284",
   "metadata": {},
   "outputs": [],
   "source": [
    "input_batch  = torch.Tensor(input_batch)\n",
    "target_batch = torch.LongTensor(target_batch)"
   ]
  },
  {
   "cell_type": "code",
   "execution_count": 54,
   "id": "d4946bcd-64e7-4eb1-9546-c71c8727fd0b",
   "metadata": {},
   "outputs": [
    {
     "data": {
      "text/plain": [
       "torch.Size([2, 1])"
      ]
     },
     "execution_count": 54,
     "metadata": {},
     "output_type": "execute_result"
    }
   ],
   "source": [
    "target_batch.shape\n"
   ]
  },
  {
   "cell_type": "code",
   "execution_count": 55,
   "id": "2d2003b9-7da0-4471-afcf-6a0e19fb3ed1",
   "metadata": {},
   "outputs": [
    {
     "data": {
      "text/plain": [
       "tensor([[18, 14, 81],\n",
       "        [32, 54, 58]])"
      ]
     },
     "execution_count": 55,
     "metadata": {},
     "output_type": "execute_result"
    }
   ],
   "source": [
    "num_neg = 3\n",
    "negative_sampling(target_batch, unigram_table, num_neg)\n"
   ]
  },
  {
   "cell_type": "markdown",
   "id": "f9ad0c73-b7fb-4631-b16e-a5911dd409a9",
   "metadata": {},
   "source": [
    "## 2.3.2. Model"
   ]
  },
  {
   "cell_type": "code",
   "execution_count": 56,
   "id": "176e94e8-a620-4c16-ac4e-0f849f7b8747",
   "metadata": {},
   "outputs": [],
   "source": [
    "class SkipgramNegSampling(nn.Module):\n",
    "    \n",
    "    def __init__(self, vocab_size, emb_size):\n",
    "        super(SkipgramNegSampling, self).__init__()\n",
    "        self.embedding_v = nn.Embedding(vocab_size, emb_size) # center embedding\n",
    "        self.embedding_u = nn.Embedding(vocab_size, emb_size) # out embedding\n",
    "        self.logsigmoid = nn.LogSigmoid()\n",
    "                    \n",
    "    def forward(self, center_words, target_words, negative_words):\n",
    "        center_embeds = self.embedding_v(center_words) # [batch_size, 1, emb_size]\n",
    "        target_embeds = self.embedding_u(target_words) # [batch_size, 1, emb_size]\n",
    "        neg_embeds    = -self.embedding_u(negative_words) # [batch_size, num_neg, emb_size]\n",
    "        \n",
    "        positive_score = target_embeds.bmm(center_embeds.transpose(1, 2)).squeeze(2)\n",
    "        #[batch_size, 1, emb_size] @ [batch_size, emb_size, 1] = [batch_size, 1, 1] = [batch_size, 1]\n",
    "        \n",
    "        negative_score = neg_embeds.bmm(center_embeds.transpose(1, 2))\n",
    "        #[batch_size, k, emb_size] @ [batch_size, emb_size, 1] = [batch_size, k, 1]\n",
    "        \n",
    "        loss = self.logsigmoid(positive_score) + torch.sum(self.logsigmoid(negative_score), 1)\n",
    "                \n",
    "        return -torch.mean(loss)\n",
    "    \n",
    "    def prediction(self, inputs):\n",
    "        embeds = self.embedding_v(inputs)\n",
    "        \n",
    "        return embeds"
   ]
  },
  {
   "cell_type": "markdown",
   "id": "c75c3b9b-9e31-4e62-bb41-5dff613f7228",
   "metadata": {},
   "source": [
    "## 2.3.3. Training"
   ]
  },
  {
   "cell_type": "code",
   "execution_count": 57,
   "id": "abd2e73f-7888-4710-8ae9-c8fc45fefedc",
   "metadata": {},
   "outputs": [],
   "source": [
    "batch_size     = 2 # mini-batch size\n",
    "embedding_size = 2 #so we can later plot\n",
    "model_neg_skip          = SkipgramNegSampling(voc_size, embedding_size)\n",
    "num_neg        = 10 # num of negative sampling\n",
    "\n",
    "optimizer = optim.Adam(model.parameters(), lr=0.001)"
   ]
  },
  {
   "cell_type": "code",
   "execution_count": 58,
   "id": "1cd62a78-ee91-4d65-86d5-39fec5361c33",
   "metadata": {},
   "outputs": [],
   "source": [
    "# using time\n",
    "\n",
    "def epoch_time(start_time, end_time):\n",
    "    elapsed_time = end_time - start_time\n",
    "    elapsed_mins = int(elapsed_time / 60)\n",
    "    elapsed_secs = int(elapsed_time - (elapsed_mins * 60))\n",
    "    return elapsed_mins, elapsed_secs"
   ]
  },
  {
   "cell_type": "code",
   "execution_count": 59,
   "id": "359b6a51-92ff-474f-a79f-b69145162f62",
   "metadata": {},
   "outputs": [
    {
     "name": "stdout",
     "output_type": "stream",
     "text": [
      "Epoch: 1000 | cost: 6.815511 | time: 0m 1s\n",
      "Epoch: 2000 | cost: 12.398777 | time: 0m 3s\n",
      "Epoch: 3000 | cost: 8.263274 | time: 0m 4s\n",
      "Epoch: 4000 | cost: 9.889107 | time: 0m 6s\n",
      "Epoch: 5000 | cost: 14.295798 | time: 0m 7s\n"
     ]
    }
   ],
   "source": [
    "import time\n",
    "\n",
    "# Training\n",
    "num_epochs = 5000\n",
    "start = time.time()\n",
    "for epoch in range(num_epochs):\n",
    "    \n",
    "    input_batch, target_batch = negative_sampling_random_batch(batch_size, corpus)\n",
    "    \n",
    "    #input_batch: [batch_size, 1]\n",
    "    input_batch = torch.LongTensor(input_batch)\n",
    "    \n",
    "    #target_batch: [batch_size, 1]\n",
    "    target_batch = torch.LongTensor(target_batch)\n",
    "    \n",
    "    #negs_batch:   [batch_size, num_neg]\n",
    "    negs_batch = negative_sampling(target_batch, unigram_table, num_neg)\n",
    "    \n",
    "    optimizer.zero_grad()\n",
    "        \n",
    "    loss = model_neg_skip(input_batch, target_batch, negs_batch)\n",
    "    \n",
    "    end = time.time()\n",
    "    \n",
    "    epoch_mins, epoch_secs = epoch_time(start, end)\n",
    "    \n",
    "    loss.backward()\n",
    "    optimizer.step()\n",
    "\n",
    "    if (epoch + 1) % 1000 == 0:\n",
    "        print(f\"Epoch: {epoch + 1} | cost: {loss:.6f} | time: {epoch_mins}m {epoch_secs}s\")"
   ]
  },
  {
   "cell_type": "markdown",
   "id": "3b422446-b2fb-4911-bf88-6f7e4bc82858",
   "metadata": {},
   "source": [
    "## Plotting\n"
   ]
  },
  {
   "cell_type": "code",
   "execution_count": 60,
   "id": "aa8ca2ea-e101-4c89-b83a-1092f8befc20",
   "metadata": {},
   "outputs": [],
   "source": [
    "\n",
    "def get_embed(word):\n",
    "    id_tensor = torch.LongTensor([word2index[word]])\n",
    "    v_embed = model_neg_skip.embedding_v(id_tensor)\n",
    "    u_embed = model_neg_skip.embedding_u(id_tensor) \n",
    "    word_embed = (v_embed + u_embed) / 2 \n",
    "    x, y = word_embed[0][0].item(), word_embed[0][1].item()\n",
    "\n",
    "    return x, y"
   ]
  },
  {
   "cell_type": "code",
   "execution_count": null,
   "id": "8ac4d6d3-a289-49df-ac5a-1b3b1fe127cf",
   "metadata": {},
   "outputs": [
    {
     "data": {
      "image/png": "[encoded data removed]",
      "text/plain": [
       "<Figure size 432x216 with 1 Axes>"
      ]
     },
     "metadata": {
      "needs_background": "light"
     },
     "output_type": "display_data"
    }
   ],
   "source": [
    "plt.figure(figsize=(6,3))\n",
    "for i, word in enumerate(vocabs[:20]): #loop each unique vocab\n",
    "    x, y = get_embed(word)\n",
    "    plt.scatter(x, y)\n",
    "    plt.annotate(word, xy=(x, y), xytext=(5, 2), textcoords='offset points')\n",
    "plt.show()"
   ]
  }
 ],
 "metadata": {
  "kernelspec": {
   "display_name": "Python 3 (ipykernel)",
   "language": "python",
   "name": "python3"
  },
  "language_info": {
   "codemirror_mode": {
    "name": "ipython",
    "version": 3
   },
   "file_extension": ".py",
   "mimetype": "text/x-python",
   "name": "python",
   "nbconvert_exporter": "python",
   "pygments_lexer": "ipython3",
   "version": "3.9.7"
  }
 },
 "nbformat": 4,
 "nbformat_minor": 5
}
